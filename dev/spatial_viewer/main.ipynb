{
 "cells": [
  {
   "cell_type": "code",
   "execution_count": null,
   "id": "92c68225",
   "metadata": {},
   "outputs": [
    {
     "ename": "Error",
     "evalue": "('HY000', \"[HY000] [Microsoft][ODBC Microsoft Access Driver] Could not find file '(unknown)'. (-1811) (SQLDriverConnect); [HY000] [Microsoft][ODBC Microsoft Access Driver] Could not find file '(unknown)'. (-1811)\")",
     "output_type": "error",
     "traceback": [
      "\u001b[31m---------------------------------------------------------------------------\u001b[39m",
      "\u001b[31mError\u001b[39m                                     Traceback (most recent call last)",
      "\u001b[36mCell\u001b[39m\u001b[36m \u001b[39m\u001b[32mIn[1]\u001b[39m\u001b[32m, line 15\u001b[39m\n\u001b[32m      9\u001b[39m conn_str = (\n\u001b[32m     10\u001b[39m     \u001b[33mr\u001b[39m\u001b[33m'\u001b[39m\u001b[33mDRIVER=\u001b[39m\u001b[33m{\u001b[39m\u001b[33mMicrosoft Access Driver (*.mdb, *.accdb)};\u001b[39m\u001b[33m'\u001b[39m\n\u001b[32m     11\u001b[39m     \u001b[33mf\u001b[39m\u001b[33m'\u001b[39m\u001b[33mDBQ=\u001b[39m\u001b[38;5;132;01m{\u001b[39;00mdb_path\u001b[38;5;132;01m}\u001b[39;00m\u001b[33m;\u001b[39m\u001b[33m'\u001b[39m\n\u001b[32m     12\u001b[39m )\n\u001b[32m     14\u001b[39m \u001b[38;5;66;03m# Connect to the database\u001b[39;00m\n\u001b[32m---> \u001b[39m\u001b[32m15\u001b[39m conn = \u001b[43mpyodbc\u001b[49m\u001b[43m.\u001b[49m\u001b[43mconnect\u001b[49m\u001b[43m(\u001b[49m\u001b[43mconn_str\u001b[49m\u001b[43m)\u001b[49m\n\u001b[32m     16\u001b[39m cursor = conn.cursor()\n",
      "\u001b[31mError\u001b[39m: ('HY000', \"[HY000] [Microsoft][ODBC Microsoft Access Driver] Could not find file '(unknown)'. (-1811) (SQLDriverConnect); [HY000] [Microsoft][ODBC Microsoft Access Driver] Could not find file '(unknown)'. (-1811)\")"
     ]
    }
   ],
   "source": [
    "import pyodbc\n",
    "\n",
    "\n",
    "\n",
    "# Path to your Access database\n",
    "db_path = r'Z:\\Geodatabase\\base250k'\n",
    "\n",
    "# Connection string for Access DB (assuming .mdb or .accdb file)\n",
    "conn_str = (\n",
    "    r'DRIVER={Microsoft Access Driver (*.mdb, *.accdb)};'\n",
    "    f'DBQ={db_path};'\n",
    ")\n",
    "\n",
    "# Connect to the database\n",
    "conn = pyodbc.connect(conn_str)\n",
    "cursor = conn.cursor()\n",
    "\n"
   ]
  }
 ],
 "metadata": {
  "kernelspec": {
   "display_name": "ravenpy",
   "language": "python",
   "name": "python3"
  },
  "language_info": {
   "codemirror_mode": {
    "name": "ipython",
    "version": 3
   },
   "file_extension": ".py",
   "mimetype": "text/x-python",
   "name": "python",
   "nbconvert_exporter": "python",
   "pygments_lexer": "ipython3",
   "version": "3.13.3"
  }
 },
 "nbformat": 4,
 "nbformat_minor": 5
}
