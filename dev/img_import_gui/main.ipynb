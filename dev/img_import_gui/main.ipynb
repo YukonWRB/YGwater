{
 "cells": [
  {
   "cell_type": "code",
   "execution_count": 5,
   "metadata": {},
   "outputs": [
    {
     "ename": "AttributeError",
     "evalue": "module 'matplotlib' has no attribute 'get_data_path'",
     "output_type": "error",
     "traceback": [
      "\u001b[31m---------------------------------------------------------------------------\u001b[39m",
      "\u001b[31mAttributeError\u001b[39m                            Traceback (most recent call last)",
      "\u001b[36mCell\u001b[39m\u001b[36m \u001b[39m\u001b[32mIn[5]\u001b[39m\u001b[32m, line 2\u001b[39m\n\u001b[32m      1\u001b[39m \u001b[38;5;28;01mimport\u001b[39;00m\u001b[38;5;250m \u001b[39m\u001b[34;01mgeopandas\u001b[39;00m\u001b[38;5;250m \u001b[39m\u001b[38;5;28;01mas\u001b[39;00m\u001b[38;5;250m \u001b[39m\u001b[34;01mgpd\u001b[39;00m\n\u001b[32m----> \u001b[39m\u001b[32m2\u001b[39m \u001b[38;5;28;01mimport\u001b[39;00m\u001b[38;5;250m \u001b[39m\u001b[34;01mmatplotlib\u001b[39;00m\u001b[34;01m.\u001b[39;00m\u001b[34;01mpyplot\u001b[39;00m\u001b[38;5;250m \u001b[39m\u001b[38;5;28;01mas\u001b[39;00m\u001b[38;5;250m \u001b[39m\u001b[34;01mplt\u001b[39;00m\n\u001b[32m      4\u001b[39m \u001b[38;5;66;03m# Load the GeoJSON file\u001b[39;00m\n\u001b[32m      5\u001b[39m gdf = gpd.read_file(\u001b[33m'\u001b[39m\u001b[33mC:/Users/esniede/Documents/combined-with-oceans.geojson\u001b[39m\u001b[33m'\u001b[39m)\n",
      "\u001b[36mFile \u001b[39m\u001b[32mh:\\esniede\\github\\YGwater\\.conda\\Lib\\site-packages\\matplotlib\\__init__.py:998\u001b[39m\n\u001b[32m    992\u001b[39m     _log.debug(\u001b[33m'\u001b[39m\u001b[33mloaded rc file \u001b[39m\u001b[38;5;132;01m%s\u001b[39;00m\u001b[33m'\u001b[39m, fname)\n\u001b[32m    994\u001b[39m     \u001b[38;5;28;01mreturn\u001b[39;00m config\n\u001b[32m    997\u001b[39m rcParamsDefault = _rc_params_in_file(\n\u001b[32m--> \u001b[39m\u001b[32m998\u001b[39m     \u001b[43mcbook\u001b[49m\u001b[43m.\u001b[49m\u001b[43m_get_data_path\u001b[49m\u001b[43m(\u001b[49m\u001b[33;43m\"\u001b[39;49m\u001b[33;43mmatplotlibrc\u001b[39;49m\u001b[33;43m\"\u001b[39;49m\u001b[43m)\u001b[49m,\n\u001b[32m    999\u001b[39m     \u001b[38;5;66;03m# Strip leading comment.\u001b[39;00m\n\u001b[32m   1000\u001b[39m     transform=\u001b[38;5;28;01mlambda\u001b[39;00m line: line[\u001b[32m1\u001b[39m:] \u001b[38;5;28;01mif\u001b[39;00m line.startswith(\u001b[33m\"\u001b[39m\u001b[33m#\u001b[39m\u001b[33m\"\u001b[39m) \u001b[38;5;28;01melse\u001b[39;00m line,\n\u001b[32m   1001\u001b[39m     fail_on_error=\u001b[38;5;28;01mTrue\u001b[39;00m)\n\u001b[32m   1002\u001b[39m rcParamsDefault._update_raw(rcsetup._hardcoded_defaults)\n\u001b[32m   1003\u001b[39m rcParamsDefault._ensure_has_backend()\n",
      "\u001b[36mFile \u001b[39m\u001b[32mh:\\esniede\\github\\YGwater\\.conda\\Lib\\site-packages\\matplotlib\\cbook.py:603\u001b[39m, in \u001b[36m_get_data_path\u001b[39m\u001b[34m(*args)\u001b[39m\n\u001b[32m    597\u001b[39m \u001b[38;5;28;01mdef\u001b[39;00m\u001b[38;5;250m \u001b[39m\u001b[34m_get_data_path\u001b[39m(*args):\n\u001b[32m    598\u001b[39m \u001b[38;5;250m    \u001b[39m\u001b[33;03m\"\"\"\u001b[39;00m\n\u001b[32m    599\u001b[39m \u001b[33;03m    Return the `pathlib.Path` to a resource file provided by Matplotlib.\u001b[39;00m\n\u001b[32m    600\u001b[39m \n\u001b[32m    601\u001b[39m \u001b[33;03m    ``*args`` specify a path relative to the base data path.\u001b[39;00m\n\u001b[32m    602\u001b[39m \u001b[33;03m    \"\"\"\u001b[39;00m\n\u001b[32m--> \u001b[39m\u001b[32m603\u001b[39m     \u001b[38;5;28;01mreturn\u001b[39;00m Path(\u001b[43mmatplotlib\u001b[49m\u001b[43m.\u001b[49m\u001b[43mget_data_path\u001b[49m(), *args)\n",
      "\u001b[31mAttributeError\u001b[39m: module 'matplotlib' has no attribute 'get_data_path'"
     ]
    }
   ],
   "source": [
    "import geopandas as gpd\n",
    "import matplotlib.pyplot as plt\n",
    "\n",
    "# Load the GeoJSON file\n",
    "gdf = gpd.read_file('C:/Users/esniede/Documents/combined-with-oceans.geojson')\n",
    "\n",
    "# Plot the GeoDataFrame\n",
    "gdf.plot()\n",
    "\n",
    "# Show the plot\n",
    "plt.show()"
   ]
  }
 ],
 "metadata": {
  "kernelspec": {
   "display_name": "Python 3",
   "language": "python",
   "name": "python3"
  },
  "language_info": {
   "codemirror_mode": {
    "name": "ipython",
    "version": 3
   },
   "file_extension": ".py",
   "mimetype": "text/x-python",
   "name": "python",
   "nbconvert_exporter": "python",
   "pygments_lexer": "ipython3",
   "version": "3.11.11"
  }
 },
 "nbformat": 4,
 "nbformat_minor": 2
}
