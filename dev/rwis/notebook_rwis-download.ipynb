{
 "cells": [
  {
   "cell_type": "code",
   "execution_count": null,
   "id": "08accb6e",
   "metadata": {},
   "outputs": [],
   "source": [
    "import psycopg2\n",
    "from datetime import datetime, timezone\n",
    "import pandas as pd\n",
    "import numpy as np\n",
    "import matplotlib.pyplot as plt\n",
    "import geopandas as gpd\n",
    "from shapely.geometry import Point"
   ]
  },
  {
   "cell_type": "markdown",
   "id": "f1844851",
   "metadata": {},
   "source": [
    "Download precip measurements from the RWIS DB; store as pandas dataframe."
   ]
  },
  {
   "cell_type": "code",
   "execution_count": null,
   "id": "bb423fd6",
   "metadata": {},
   "outputs": [],
   "source": [
    "\n",
    "\n",
    "def rwis_connect(name=\"rwdm\", host=\"rwis.gov.yk.ca\", port=\"5432\", username=\"rwdmread\", password=\"rwdmread\"):\n",
    "    conn = psycopg2.connect(\n",
    "        dbname=name,\n",
    "        user=username,\n",
    "        password=password,\n",
    "        host=host,\n",
    "        port=port\n",
    "    )\n",
    "    return conn\n",
    "\n",
    "start_date = datetime(2000, 1, 1, 0, 0, 0, tzinfo=timezone.utc)\n",
    "end_date = datetime.now(timezone.utc)\n",
    "\n",
    "important_params = [\"pcp1\", \"pcp6\", \"pcp12\", \"pcp24\", \"rn1\"]\n",
    "\n",
    "important_headers = [\"station_id\", \"measurement_time\"]\n",
    "\n",
    "def get_measurements(conn, columns, start_time, end_time):\n",
    "    # columns: list of column names to select\n",
    "    cols = \", \".join(columns)\n",
    "    query = (\n",
    "        f\"SELECT {cols} FROM measurements_measurement \"\n",
    "        f\"WHERE measurement_time > %s AND measurement_time <= %s;\"\n",
    "    )\n",
    "    with conn.cursor() as cur:\n",
    "        cur.execute(query, (start_time, end_time))\n",
    "        rows = cur.fetchall()\n",
    "        return rows\n",
    "\n",
    "columns = important_headers + important_params\n",
    "\n",
    "with rwis_connect() as conn:\n",
    "    get_measurements = get_measurements(conn, columns, start_date, end_date)\n",
    "\n",
    "df = pd.DataFrame(get_measurements, columns=columns)"
   ]
  },
  {
   "cell_type": "code",
   "execution_count": 46,
   "id": "256f79ab",
   "metadata": {},
   "outputs": [
    {
     "data": {
      "application/vnd.microsoft.datawrangler.viewer.v0+json": {
       "columns": [
        {
         "name": "index",
         "rawType": "int64",
         "type": "integer"
        },
        {
         "name": "station_id",
         "rawType": "int64",
         "type": "integer"
        },
        {
         "name": "measurement_time",
         "rawType": "object",
         "type": "unknown"
        },
        {
         "name": "pcp1",
         "rawType": "float64",
         "type": "float"
        },
        {
         "name": "pcp6",
         "rawType": "float64",
         "type": "float"
        },
        {
         "name": "pcp12",
         "rawType": "object",
         "type": "unknown"
        },
        {
         "name": "pcp24",
         "rawType": "float64",
         "type": "float"
        },
        {
         "name": "rn1",
         "rawType": "float64",
         "type": "float"
        }
       ],
       "ref": "2c42895a-1965-4116-a962-bd32dc3d13bc",
       "rows": [
        [
         "312500",
         "107",
         "2021-06-01 06:00:00-07:00",
         "368.0",
         null,
         null,
         null,
         null
        ],
        [
         "6228027",
         "107",
         "2019-12-26 03:00:00-08:00",
         "350.0",
         null,
         null,
         null,
         null
        ],
        [
         "7815889",
         "107",
         "2021-01-31 17:00:00-07:00",
         "323.0",
         null,
         null,
         null,
         null
        ],
        [
         "7818644",
         "107",
         "2021-01-31 18:00:00-07:00",
         "323.0",
         null,
         null,
         null,
         null
        ],
        [
         "1933447",
         "167",
         "2023-05-24 08:00:00-07:00",
         "303.7",
         null,
         null,
         null,
         null
        ],
        [
         "430717",
         "107",
         "2021-06-17 06:00:00-07:00",
         "302.0",
         null,
         null,
         null,
         null
        ],
        [
         "163639",
         "107",
         "2021-06-04 15:00:00-07:00",
         "272.0",
         null,
         null,
         null,
         null
        ],
        [
         "6455230",
         "107",
         "2020-03-20 20:00:00-07:00",
         "271.0",
         null,
         null,
         null,
         null
        ],
        [
         "5885048",
         "107",
         "2020-12-10 23:00:00-07:00",
         "268.0",
         null,
         null,
         null,
         null
        ],
        [
         "7831421",
         "107",
         "2021-02-04 18:00:00-07:00",
         "252.0",
         null,
         null,
         null,
         null
        ],
        [
         "333675",
         "107",
         "2021-06-02 23:00:00-07:00",
         "249.0",
         null,
         null,
         null,
         null
        ],
        [
         "7660349",
         "167",
         "2023-06-27 20:00:00-07:00",
         "243.8",
         null,
         null,
         null,
         null
        ],
        [
         "6509064",
         "107",
         "2020-04-14 12:00:00-07:00",
         "237.0",
         null,
         null,
         null,
         null
        ],
        [
         "7575948",
         "128",
         "2020-11-06 17:00:00-07:00",
         "236.7",
         null,
         null,
         null,
         "0.0"
        ],
        [
         "1982182",
         "167",
         "2023-05-08 13:00:00-07:00",
         "236.1",
         null,
         null,
         null,
         null
        ],
        [
         "7649714",
         "107",
         "2020-12-09 10:00:00-07:00",
         "234.0",
         null,
         null,
         null,
         null
        ],
        [
         "5867235",
         "107",
         "2020-04-13 13:00:00-07:00",
         "232.0",
         null,
         null,
         null,
         null
        ],
        [
         "7039924",
         "107",
         "2020-07-14 14:00:00-07:00",
         "229.0",
         null,
         null,
         null,
         null
        ],
        [
         "7105652",
         "107",
         "2021-06-03 23:00:00-07:00",
         "227.0",
         null,
         null,
         null,
         null
        ],
        [
         "1879596",
         "167",
         "2023-05-29 07:00:00-07:00",
         "226.7",
         null,
         null,
         null,
         null
        ]
       ],
       "shape": {
        "columns": 7,
        "rows": 20
       }
      },
      "text/html": [
       "<div>\n",
       "<style scoped>\n",
       "    .dataframe tbody tr th:only-of-type {\n",
       "        vertical-align: middle;\n",
       "    }\n",
       "\n",
       "    .dataframe tbody tr th {\n",
       "        vertical-align: top;\n",
       "    }\n",
       "\n",
       "    .dataframe thead th {\n",
       "        text-align: right;\n",
       "    }\n",
       "</style>\n",
       "<table border=\"1\" class=\"dataframe\">\n",
       "  <thead>\n",
       "    <tr style=\"text-align: right;\">\n",
       "      <th></th>\n",
       "      <th>station_id</th>\n",
       "      <th>measurement_time</th>\n",
       "      <th>pcp1</th>\n",
       "      <th>pcp6</th>\n",
       "      <th>pcp12</th>\n",
       "      <th>pcp24</th>\n",
       "      <th>rn1</th>\n",
       "    </tr>\n",
       "  </thead>\n",
       "  <tbody>\n",
       "    <tr>\n",
       "      <th>312500</th>\n",
       "      <td>107</td>\n",
       "      <td>2021-06-01 06:00:00-07:00</td>\n",
       "      <td>368.0</td>\n",
       "      <td>NaN</td>\n",
       "      <td>None</td>\n",
       "      <td>NaN</td>\n",
       "      <td>NaN</td>\n",
       "    </tr>\n",
       "    <tr>\n",
       "      <th>6228027</th>\n",
       "      <td>107</td>\n",
       "      <td>2019-12-26 03:00:00-08:00</td>\n",
       "      <td>350.0</td>\n",
       "      <td>NaN</td>\n",
       "      <td>None</td>\n",
       "      <td>NaN</td>\n",
       "      <td>NaN</td>\n",
       "    </tr>\n",
       "    <tr>\n",
       "      <th>7815889</th>\n",
       "      <td>107</td>\n",
       "      <td>2021-01-31 17:00:00-07:00</td>\n",
       "      <td>323.0</td>\n",
       "      <td>NaN</td>\n",
       "      <td>None</td>\n",
       "      <td>NaN</td>\n",
       "      <td>NaN</td>\n",
       "    </tr>\n",
       "    <tr>\n",
       "      <th>7818644</th>\n",
       "      <td>107</td>\n",
       "      <td>2021-01-31 18:00:00-07:00</td>\n",
       "      <td>323.0</td>\n",
       "      <td>NaN</td>\n",
       "      <td>None</td>\n",
       "      <td>NaN</td>\n",
       "      <td>NaN</td>\n",
       "    </tr>\n",
       "    <tr>\n",
       "      <th>1933447</th>\n",
       "      <td>167</td>\n",
       "      <td>2023-05-24 08:00:00-07:00</td>\n",
       "      <td>303.7</td>\n",
       "      <td>NaN</td>\n",
       "      <td>None</td>\n",
       "      <td>NaN</td>\n",
       "      <td>NaN</td>\n",
       "    </tr>\n",
       "    <tr>\n",
       "      <th>430717</th>\n",
       "      <td>107</td>\n",
       "      <td>2021-06-17 06:00:00-07:00</td>\n",
       "      <td>302.0</td>\n",
       "      <td>NaN</td>\n",
       "      <td>None</td>\n",
       "      <td>NaN</td>\n",
       "      <td>NaN</td>\n",
       "    </tr>\n",
       "    <tr>\n",
       "      <th>163639</th>\n",
       "      <td>107</td>\n",
       "      <td>2021-06-04 15:00:00-07:00</td>\n",
       "      <td>272.0</td>\n",
       "      <td>NaN</td>\n",
       "      <td>None</td>\n",
       "      <td>NaN</td>\n",
       "      <td>NaN</td>\n",
       "    </tr>\n",
       "    <tr>\n",
       "      <th>6455230</th>\n",
       "      <td>107</td>\n",
       "      <td>2020-03-20 20:00:00-07:00</td>\n",
       "      <td>271.0</td>\n",
       "      <td>NaN</td>\n",
       "      <td>None</td>\n",
       "      <td>NaN</td>\n",
       "      <td>NaN</td>\n",
       "    </tr>\n",
       "    <tr>\n",
       "      <th>5885048</th>\n",
       "      <td>107</td>\n",
       "      <td>2020-12-10 23:00:00-07:00</td>\n",
       "      <td>268.0</td>\n",
       "      <td>NaN</td>\n",
       "      <td>None</td>\n",
       "      <td>NaN</td>\n",
       "      <td>NaN</td>\n",
       "    </tr>\n",
       "    <tr>\n",
       "      <th>7831421</th>\n",
       "      <td>107</td>\n",
       "      <td>2021-02-04 18:00:00-07:00</td>\n",
       "      <td>252.0</td>\n",
       "      <td>NaN</td>\n",
       "      <td>None</td>\n",
       "      <td>NaN</td>\n",
       "      <td>NaN</td>\n",
       "    </tr>\n",
       "    <tr>\n",
       "      <th>333675</th>\n",
       "      <td>107</td>\n",
       "      <td>2021-06-02 23:00:00-07:00</td>\n",
       "      <td>249.0</td>\n",
       "      <td>NaN</td>\n",
       "      <td>None</td>\n",
       "      <td>NaN</td>\n",
       "      <td>NaN</td>\n",
       "    </tr>\n",
       "    <tr>\n",
       "      <th>7660349</th>\n",
       "      <td>167</td>\n",
       "      <td>2023-06-27 20:00:00-07:00</td>\n",
       "      <td>243.8</td>\n",
       "      <td>NaN</td>\n",
       "      <td>None</td>\n",
       "      <td>NaN</td>\n",
       "      <td>NaN</td>\n",
       "    </tr>\n",
       "    <tr>\n",
       "      <th>6509064</th>\n",
       "      <td>107</td>\n",
       "      <td>2020-04-14 12:00:00-07:00</td>\n",
       "      <td>237.0</td>\n",
       "      <td>NaN</td>\n",
       "      <td>None</td>\n",
       "      <td>NaN</td>\n",
       "      <td>NaN</td>\n",
       "    </tr>\n",
       "    <tr>\n",
       "      <th>7575948</th>\n",
       "      <td>128</td>\n",
       "      <td>2020-11-06 17:00:00-07:00</td>\n",
       "      <td>236.7</td>\n",
       "      <td>NaN</td>\n",
       "      <td>None</td>\n",
       "      <td>NaN</td>\n",
       "      <td>0.0</td>\n",
       "    </tr>\n",
       "    <tr>\n",
       "      <th>1982182</th>\n",
       "      <td>167</td>\n",
       "      <td>2023-05-08 13:00:00-07:00</td>\n",
       "      <td>236.1</td>\n",
       "      <td>NaN</td>\n",
       "      <td>None</td>\n",
       "      <td>NaN</td>\n",
       "      <td>NaN</td>\n",
       "    </tr>\n",
       "    <tr>\n",
       "      <th>7649714</th>\n",
       "      <td>107</td>\n",
       "      <td>2020-12-09 10:00:00-07:00</td>\n",
       "      <td>234.0</td>\n",
       "      <td>NaN</td>\n",
       "      <td>None</td>\n",
       "      <td>NaN</td>\n",
       "      <td>NaN</td>\n",
       "    </tr>\n",
       "    <tr>\n",
       "      <th>5867235</th>\n",
       "      <td>107</td>\n",
       "      <td>2020-04-13 13:00:00-07:00</td>\n",
       "      <td>232.0</td>\n",
       "      <td>NaN</td>\n",
       "      <td>None</td>\n",
       "      <td>NaN</td>\n",
       "      <td>NaN</td>\n",
       "    </tr>\n",
       "    <tr>\n",
       "      <th>7039924</th>\n",
       "      <td>107</td>\n",
       "      <td>2020-07-14 14:00:00-07:00</td>\n",
       "      <td>229.0</td>\n",
       "      <td>NaN</td>\n",
       "      <td>None</td>\n",
       "      <td>NaN</td>\n",
       "      <td>NaN</td>\n",
       "    </tr>\n",
       "    <tr>\n",
       "      <th>7105652</th>\n",
       "      <td>107</td>\n",
       "      <td>2021-06-03 23:00:00-07:00</td>\n",
       "      <td>227.0</td>\n",
       "      <td>NaN</td>\n",
       "      <td>None</td>\n",
       "      <td>NaN</td>\n",
       "      <td>NaN</td>\n",
       "    </tr>\n",
       "    <tr>\n",
       "      <th>1879596</th>\n",
       "      <td>167</td>\n",
       "      <td>2023-05-29 07:00:00-07:00</td>\n",
       "      <td>226.7</td>\n",
       "      <td>NaN</td>\n",
       "      <td>None</td>\n",
       "      <td>NaN</td>\n",
       "      <td>NaN</td>\n",
       "    </tr>\n",
       "  </tbody>\n",
       "</table>\n",
       "</div>"
      ],
      "text/plain": [
       "         station_id           measurement_time   pcp1  pcp6 pcp12  pcp24  rn1\n",
       "312500          107  2021-06-01 06:00:00-07:00  368.0   NaN  None    NaN  NaN\n",
       "6228027         107  2019-12-26 03:00:00-08:00  350.0   NaN  None    NaN  NaN\n",
       "7815889         107  2021-01-31 17:00:00-07:00  323.0   NaN  None    NaN  NaN\n",
       "7818644         107  2021-01-31 18:00:00-07:00  323.0   NaN  None    NaN  NaN\n",
       "1933447         167  2023-05-24 08:00:00-07:00  303.7   NaN  None    NaN  NaN\n",
       "430717          107  2021-06-17 06:00:00-07:00  302.0   NaN  None    NaN  NaN\n",
       "163639          107  2021-06-04 15:00:00-07:00  272.0   NaN  None    NaN  NaN\n",
       "6455230         107  2020-03-20 20:00:00-07:00  271.0   NaN  None    NaN  NaN\n",
       "5885048         107  2020-12-10 23:00:00-07:00  268.0   NaN  None    NaN  NaN\n",
       "7831421         107  2021-02-04 18:00:00-07:00  252.0   NaN  None    NaN  NaN\n",
       "333675          107  2021-06-02 23:00:00-07:00  249.0   NaN  None    NaN  NaN\n",
       "7660349         167  2023-06-27 20:00:00-07:00  243.8   NaN  None    NaN  NaN\n",
       "6509064         107  2020-04-14 12:00:00-07:00  237.0   NaN  None    NaN  NaN\n",
       "7575948         128  2020-11-06 17:00:00-07:00  236.7   NaN  None    NaN  0.0\n",
       "1982182         167  2023-05-08 13:00:00-07:00  236.1   NaN  None    NaN  NaN\n",
       "7649714         107  2020-12-09 10:00:00-07:00  234.0   NaN  None    NaN  NaN\n",
       "5867235         107  2020-04-13 13:00:00-07:00  232.0   NaN  None    NaN  NaN\n",
       "7039924         107  2020-07-14 14:00:00-07:00  229.0   NaN  None    NaN  NaN\n",
       "7105652         107  2021-06-03 23:00:00-07:00  227.0   NaN  None    NaN  NaN\n",
       "1879596         167  2023-05-29 07:00:00-07:00  226.7   NaN  None    NaN  NaN"
      ]
     },
     "execution_count": 46,
     "metadata": {},
     "output_type": "execute_result"
    }
   ],
   "source": [
    "df.sort_values(\"pcp1\", ascending=False).head(20)"
   ]
  },
  {
   "cell_type": "markdown",
   "id": "95a0d824",
   "metadata": {},
   "source": [
    "We define a helper function to extract the first float from a value. Values are stored as tuples [value, flag]. Here we're ignoring the flag, which is almost always -9999"
   ]
  },
  {
   "cell_type": "code",
   "execution_count": null,
   "id": "74167e60",
   "metadata": {},
   "outputs": [],
   "source": [
    "\n",
    "\n",
    "def extract_first_float(val):\n",
    "    if isinstance(val, list):\n",
    "        try:\n",
    "            return float(val[0])\n",
    "        except Exception:\n",
    "            return None\n",
    "    elif val is None:\n",
    "        return None\n",
    "    else:\n",
    "        try:\n",
    "            return float(val)\n",
    "        except Exception:\n",
    "            return None\n",
    "\n",
    "for col in important_params:\n",
    "    df[col] = df[col].apply(extract_first_float)"
   ]
  },
  {
   "cell_type": "markdown",
   "id": "828dd8de",
   "metadata": {},
   "source": [
    "Here we create a dataframe for each station.\n",
    "Data is collected at one of four frequencies: 1h, 6h, 12h, 24h. Resample everything to hourly, convert >1hr freqs to hourly, aggregate into single precip column. We aggregate such that we take 1hr, if there's no 1hr, we take 6hr, etc. Evnetually, store aggregated precip in a dataframe with dims [datetime, station_id]"
   ]
  },
  {
   "cell_type": "code",
   "execution_count": null,
   "id": "29e197aa",
   "metadata": {},
   "outputs": [],
   "source": [
    "\n",
    "\n",
    "dfs_hourly = {}\n",
    "station_ids = df['station_id'].unique()\n",
    "for sid in station_ids:\n",
    "    # Isolate data for this station\n",
    "    df_station = df[df['station_id'] == sid].copy()\n",
    "    # Ensure measurement_time is a datetime type and set as index\n",
    "    df_station['measurement_time'] = pd.to_datetime(df_station['measurement_time'], utc=True)\n",
    "    df_station = df_station.set_index('measurement_time')\n",
    "    # Resample to regular hourly timestep, preserving all columns\n",
    "    df_hourly_station = df_station.resample('h').asfreq()\n",
    "    # Add station_id back as a column for clarity\n",
    "    df_hourly_station['station_id'] = sid\n",
    "\n",
    "    for col, window in zip(['pcp6', 'pcp12', 'pcp24'], [6, 12, 24]):\n",
    "        df_hourly_station[col] = df_hourly_station[col] / window\n",
    "\n",
    "    df_hourly_station[\"pcp\"] = df_hourly_station[\"pcp1\"]\n",
    "    for col in ['pcp6', 'pcp12', 'pcp24']:\n",
    "        if df_hourly_station[\"pcp\"].isnull().all():\n",
    "            df_hourly_station[\"pcp\"] = df_hourly_station[col]\n",
    "\n",
    "\n",
    "\n",
    "    # Store in dictionary\n",
    "    dfs_hourly[sid] = df_hourly_station\n",
    "\n",
    "    \n",
    "# Optionally, concatenate all back into a single DataFrame if needed\n",
    "pcp = pd.concat([x[\"pcp\"] for x in dfs_hourly.values()], axis=1, keys=dfs_hourly.keys())\n"
   ]
  },
  {
   "cell_type": "markdown",
   "id": "dd311a8d",
   "metadata": {},
   "source": [
    "Loading in the stations as a GDF."
   ]
  },
  {
   "cell_type": "code",
   "execution_count": 5,
   "id": "b334883c",
   "metadata": {},
   "outputs": [
    {
     "data": {
      "text/plain": [
       "<Axes: >"
      ]
     },
     "execution_count": 5,
     "metadata": {},
     "output_type": "execute_result"
    },
    {
     "data": {
      "image/png": "[encoded data removed]",
      "text/plain": [
       "<Figure size 640x480 with 1 Axes>"
      ]
     },
     "metadata": {},
     "output_type": "display_data"
    }
   ],
   "source": [
    "# load station metadata from RWIS DB\n",
    "\n",
    "def get_stations(conn):\n",
    "    \"\"\"Get all stations from stations_stations table\"\"\"\n",
    "    query = \"SELECT * FROM stations_station;\"\n",
    "    with conn.cursor() as cur:\n",
    "        cur.execute(query)\n",
    "        columns = [desc[0] for desc in cur.description]  # Get column names\n",
    "        rows = cur.fetchall()\n",
    "        return rows, columns\n",
    "\n",
    "# Connect to RWIS and get stations data\n",
    "with rwis_connect() as conn:\n",
    "    station_rows, station_columns = get_stations(conn)\n",
    "\n",
    "# Convert to DataFrame\n",
    "stations_df = pd.DataFrame(station_rows, columns=station_columns)\n",
    "\n",
    "# Convert to GeoDataFrame\n",
    "# Assuming 'longitude' and 'latitude' are the column names for coordinates\n",
    "geometry = [Point(xy) for xy in zip(stations_df['longitude'], stations_df['latitude'])]\n",
    "stations_gdf = gpd.GeoDataFrame(stations_df, geometry=geometry, crs=\"EPSG:4326\")\n",
    "\n",
    "# Display the first few rows of the GeoDataFrame\n",
    "stations_gdf[stations_gdf.latitude != -999.0].plot(column='elevation', cmap='viridis')"
   ]
  },
  {
   "cell_type": "markdown",
   "id": "524b6117",
   "metadata": {},
   "source": [
    "As a sanity check, we compare the 1-hour and 24-hour precip at one station. Overall it looks OK, makes sense that the 24-hour rain would have a much lower instantanious value."
   ]
  },
  {
   "cell_type": "code",
   "execution_count": 40,
   "id": "2e9d59f7",
   "metadata": {},
   "outputs": [
    {
     "data": {
      "text/plain": [
       "[<matplotlib.lines.Line2D at 0x1ae450e7c50>]"
      ]
     },
     "execution_count": 40,
     "metadata": {},
     "output_type": "execute_result"
    },
    {
     "data": {
      "image/png": "[encoded data removed]",
      "text/plain": [
       "<Figure size 640x480 with 1 Axes>"
      ]
     },
     "metadata": {},
     "output_type": "display_data"
    }
   ],
   "source": [
    "plt.plot(dfs_hourly[100][\"pcp1\"].values, '.-', linewidth=0.1)\n",
    "plt.plot(dfs_hourly[100][\"pcp24\"].values, '.-', linewidth=0.1)"
   ]
  },
  {
   "cell_type": "markdown",
   "id": "3807cea9",
   "metadata": {},
   "source": [
    "Here we plot precip. at all stations, we can see that some stations have some very high measurements, might be measuring snow on ground?"
   ]
  },
  {
   "cell_type": "code",
   "execution_count": null,
   "id": "775d6b54",
   "metadata": {},
   "outputs": [
    {
     "data": {
      "image/png": "[encoded data removed]",
      "text/plain": [
       "<Figure size 640x480 with 1 Axes>"
      ]
     },
     "metadata": {},
     "output_type": "display_data"
    }
   ],
   "source": [
    "for sid in station_ids:\n",
    "    plt.plot(dfs_hourly[sid].index,dfs_hourly[sid]['pcp'].values, '.-', linewidth=0.1, alpha=0.2,label=sid)"
   ]
  },
  {
   "cell_type": "markdown",
   "id": "f3494d15",
   "metadata": {},
   "source": [
    "Rename station IDs to abbrevs and export to csv"
   ]
  },
  {
   "cell_type": "code",
   "execution_count": null,
   "id": "b78ef6c0",
   "metadata": {},
   "outputs": [],
   "source": [
    "\n",
    "rename_dict = stations_gdf.set_index('id')[\"abbreviation\"].to_dict()\n",
    "\n",
    "pcp.columns = [int(col) for col in pcp.columns]\n",
    "pcp.columns = [rename_dict[col] if col in rename_dict.keys() else 'UNMATCHED_STN' for col in pcp.columns]\n",
    "pcp.to_csv(\"precip.csv\", index=True)\n"
   ]
  },
  {
   "cell_type": "code",
   "execution_count": 33,
   "id": "ad4823d3",
   "metadata": {},
   "outputs": [
    {
     "data": {
      "application/vnd.microsoft.datawrangler.viewer.v0+json": {
       "columns": [
        {
         "name": "index",
         "rawType": "object",
         "type": "string"
        },
        {
         "name": "0",
         "rawType": "int64",
         "type": "integer"
        }
       ],
       "ref": "11e18445-9924-4f60-b095-0f0f964ad258",
       "rows": [
        [
         "CC",
         "68583"
        ],
        [
         "VXY",
         "66950"
        ],
        [
         "XQH",
         "66561"
        ],
        [
         "SWI",
         "65723"
        ],
        [
         "XCK",
         "65220"
        ],
        [
         "WZW",
         "65139"
        ],
        [
         "WON",
         "65016"
        ],
        [
         "ZOC",
         "64927"
        ],
        [
         "CYDB-A",
         "64229"
        ],
        [
         "EPF",
         "63997"
        ],
        [
         "YAAHP",
         "58934"
        ],
        [
         "WNV",
         "53743"
        ],
        [
         "WJN",
         "46746"
        ],
        [
         "VBR",
         "44778"
        ],
        [
         "CXY",
         "43116"
        ],
        [
         "CMA",
         "42786"
        ],
        [
         "STW",
         "42693"
        ],
        [
         "KLOT",
         "40333"
        ],
        [
         "WOI",
         "33927"
        ],
        [
         "OGT",
         "33107"
        ],
        [
         "PCB",
         "28878"
        ],
        [
         "WUM",
         "26923"
        ],
        [
         "ATL",
         "25976"
        ],
        [
         "WHT",
         "25526"
        ],
        [
         "WRR",
         "22768"
        ],
        [
         "WJL",
         "19386"
        ],
        [
         "YWRR",
         "17050"
        ],
        [
         "YAAFRA",
         "14000"
        ],
        [
         "CPY",
         "12203"
        ],
        [
         "YWWP",
         "10955"
        ],
        [
         "YPTI",
         "7593"
        ],
        [
         "CYMA-H",
         "7144"
        ],
        [
         "PLC",
         "4041"
        ],
        [
         "POR1",
         "3665"
        ],
        [
         "CYDA-H",
         "3244"
        ],
        [
         "HEL",
         "2446"
        ],
        [
         "FLK",
         "2286"
        ],
        [
         "CYQH-H",
         "1883"
        ],
        [
         "YPKU",
         "1099"
        ],
        [
         "CYJF-A",
         "206"
        ],
        [
         "CYZW-A",
         "199"
        ],
        [
         "WLAT",
         "194"
        ],
        [
         "CYXY-H",
         "192"
        ],
        [
         "CYDA-A",
         "187"
        ],
        [
         "CZFA-A",
         "185"
        ],
        [
         "FLR",
         "183"
        ],
        [
         "CYMA-A",
         "181"
        ],
        [
         "CYOC-A",
         "147"
        ],
        [
         "FAD",
         "33"
        ],
        [
         "CYDB-H",
         "30"
        ]
       ],
       "shape": {
        "columns": 1,
        "rows": 129
       }
      },
      "text/plain": [
       "CC       68583\n",
       "VXY      66950\n",
       "XQH      66561\n",
       "SWI      65723\n",
       "XCK      65220\n",
       "         ...  \n",
       "NKAK         0\n",
       "SHAK4        0\n",
       "CBAK         0\n",
       "SHAK3        0\n",
       "SHAK2        0\n",
       "Length: 129, dtype: int64"
      ]
     },
     "execution_count": 33,
     "metadata": {},
     "output_type": "execute_result"
    }
   ],
   "source": [
    "(~pcp.isna()).sum().sort_values(ascending=False)"
   ]
  },
  {
   "cell_type": "markdown",
   "id": "ed84f195",
   "metadata": {},
   "source": [
    "Plotting two stations as a final sanity check."
   ]
  },
  {
   "cell_type": "code",
   "execution_count": 39,
   "id": "bacfbb59",
   "metadata": {},
   "outputs": [
    {
     "data": {
      "text/plain": [
       "(0.0, 12.0)"
      ]
     },
     "execution_count": 39,
     "metadata": {},
     "output_type": "execute_result"
    },
    {
     "data": {
      "image/png": "[encoded data removed]",
      "text/plain": [
       "<Figure size 640x480 with 1 Axes>"
      ]
     },
     "metadata": {},
     "output_type": "display_data"
    }
   ],
   "source": [
    "fig, ax = plt.subplots()\n",
    "ax.plot(pcp[\"VXY\"])\n",
    "ax.plot(pcp[\"CC\"])\n",
    "ax.set_ylabel(\"Precipitation (mm)\")\n",
    "\n",
    "ax.set_xlim(datetime(2020, 1, 1), datetime(2022, 1, 1))\n",
    "ax.set_ylim(0, 12)"
   ]
  }
 ],
 "metadata": {
  "kernelspec": {
   "display_name": "ygwater",
   "language": "python",
   "name": "python3"
  },
  "language_info": {
   "codemirror_mode": {
    "name": "ipython",
    "version": 3
   },
   "file_extension": ".py",
   "mimetype": "text/x-python",
   "name": "python",
   "nbconvert_exporter": "python",
   "pygments_lexer": "ipython3",
   "version": "3.11.13"
  }
 },
 "nbformat": 4,
 "nbformat_minor": 5
}
